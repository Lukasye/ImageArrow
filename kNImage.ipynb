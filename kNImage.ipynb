{
 "cells": [
  {
   "cell_type": "code",
   "execution_count": 38,
   "metadata": {},
   "outputs": [
    {
     "ename": "ModuleNotFoundError",
     "evalue": "No module named 'sklearn'",
     "output_type": "error",
     "traceback": [
      "\u001b[1;31m---------------------------------------------------------------------------\u001b[0m",
      "\u001b[1;31mModuleNotFoundError\u001b[0m                       Traceback (most recent call last)",
      "Cell \u001b[1;32mIn[38], line 6\u001b[0m\n\u001b[0;32m      4\u001b[0m \u001b[39mimport\u001b[39;00m \u001b[39mnumpy\u001b[39;00m \u001b[39mas\u001b[39;00m \u001b[39mnp\u001b[39;00m\n\u001b[0;32m      5\u001b[0m \u001b[39mimport\u001b[39;00m \u001b[39mos\u001b[39;00m\n\u001b[1;32m----> 6\u001b[0m \u001b[39mfrom\u001b[39;00m \u001b[39msklearn\u001b[39;00m\u001b[39m.\u001b[39;00m\u001b[39mdecomposition\u001b[39;00m \u001b[39mimport\u001b[39;00m PCA\n\u001b[0;32m      8\u001b[0m \u001b[39mimport\u001b[39;00m \u001b[39mfeature_extraction\u001b[39;00m\n",
      "\u001b[1;31mModuleNotFoundError\u001b[0m: No module named 'sklearn'"
     ]
    }
   ],
   "source": [
    "from PIL import Image\n",
    "import pandas as pd\n",
    "from tqdm import tqdm\n",
    "import numpy as np\n",
    "import os\n",
    "from sklearn.decomposition import PCA\n",
    "\n",
    "import feature_extraction"
   ]
  },
  {
   "cell_type": "code",
   "execution_count": 27,
   "metadata": {},
   "outputs": [],
   "source": [
    "def distance_ecu(x_train, x_test_point):\n",
    "    distances = np.linalg.norm(x_train - x_test_point, axis=-1)\n",
    "    return distances\n",
    "\n",
    "\n",
    "def nearest_neighbors(distance_point, K):\n",
    "    rank = np.argsort(distance_point)\n",
    "    df_nearest = rank[:K]\n",
    "    return df_nearest\n",
    "     \n",
    "\n",
    "def voting(df_nearest, y_train):\n",
    "    tmp = y_train[df_nearest]\n",
    "    index, counts = np.unique(tmp, return_counts=True)\n",
    "    y_pred = index[np.argmax(counts)]\n",
    "    return y_pred\n",
    "\n",
    "def KNN_from_scratch(x_train, y_train, x_test, K):\n",
    "    y_pred = []\n",
    "    for sample in x_test:\n",
    "        distances = distance_ecu(x_train, sample)\n",
    "        df_nearest = nearest_neighbors(distances, K)\n",
    "        pred = voting(df_nearest, y_train)\n",
    "        y_pred.append(pred)\n",
    "    return y_pred  \n",
    "\n",
    "def print_result(result, y_test):\n",
    "    true_positive = y_test == result\n",
    "    return np.count_nonzero(true_positive) / len(true_positive)\n"
   ]
  },
  {
   "cell_type": "code",
   "execution_count": 18,
   "metadata": {},
   "outputs": [],
   "source": [
    "\n",
    "class ImageClassifier:\n",
    "    def __init__(self, train_path, test_path):\n",
    "        self.train_path = train_path\n",
    "        self.test_path = test_path\n",
    "        self.train_set = os.listdir(train_path)\n",
    "        self.test_set = os.listdir(test_path)\n",
    "        self.fit()\n",
    "\n",
    "    def fit(self):\n",
    "        self.train_data = None \n",
    "        self.test_data = None \n",
    "        # for animals in self.train_set:\n",
    "        # for simplicity i just used two classes\n",
    "        for animals in ['bird', 'dog']:\n",
    "            print(f'Now animal {animals}')\n",
    "            tmp_path = os.path.join(self.train_path, animals)\n",
    "            datafiles = os.listdir(tmp_path)\n",
    "            print('Training sets...')\n",
    "            for singlefile in tqdm(datafiles):\n",
    "                img = feature_extraction.load_animals(os.path.join(tmp_path, singlefile))\n",
    "                hiera = feature_extraction.gaussian_pyramide(img)\n",
    "                feature_vector = feature_extraction.feature_extraction(hiera)\n",
    "                if self.train_data is None:\n",
    "                    self.train_data = feature_vector.copy()\n",
    "                else:\n",
    "                    self.train_data = np.vstack((self.train_data, feature_vector))\n",
    "            \n",
    "            # dont judge me, im just lazy\n",
    "            print('Test sets...')\n",
    "            tmp_path = os.path.join(self.test_path, animals)\n",
    "            datafiles = os.listdir(tmp_path)\n",
    "            for singlefile in tqdm(datafiles):\n",
    "                img = feature_extraction.load_animals(os.path.join(tmp_path, singlefile))\n",
    "                hiera = feature_extraction.gaussian_pyramide(img)\n",
    "                feature_vector = feature_extraction.feature_extraction(hiera)\n",
    "                if self.test_data is None:\n",
    "                    self.test_data = feature_vector.copy()\n",
    "                else:\n",
    "                    self.test_data = np.vstack((self.test_data, feature_vector))\n",
    "        # self.train_x = pd.DataFrame(self.train_data)\n",
    "        # self.test_x = pd.DataFrame(self.test_data)\n",
    "        # # thoes are hard coded, because im lazy\n",
    "        # self.train_y = pd.DataFrame(np.hstack((np.zeros(600), np.ones(600))))\n",
    "        # self.test_y = pd.DataFrame(np.hstack((np.zeros(200), np.ones(200))))\n",
    "        self.train_x = self.train_data\n",
    "        self.test_x = self.test_data\n",
    "        # thoes are hard coded, because im lazy\n",
    "        self.train_y = np.hstack((np.zeros(600), np.ones(600)))\n",
    "        self.test_y = np.hstack((np.zeros(200), np.ones(200)))\n",
    "            "
   ]
  },
  {
   "cell_type": "code",
   "execution_count": 19,
   "metadata": {},
   "outputs": [
    {
     "name": "stdout",
     "output_type": "stream",
     "text": [
      "Now animal bird\n",
      "Training sets...\n"
     ]
    },
    {
     "name": "stderr",
     "output_type": "stream",
     "text": [
      "100%|██████████| 600/600 [00:06<00:00, 88.28it/s]\n"
     ]
    },
    {
     "name": "stdout",
     "output_type": "stream",
     "text": [
      "Test sets...\n"
     ]
    },
    {
     "name": "stderr",
     "output_type": "stream",
     "text": [
      "100%|██████████| 200/200 [00:02<00:00, 76.17it/s]\n"
     ]
    },
    {
     "name": "stdout",
     "output_type": "stream",
     "text": [
      "Now animal dog\n",
      "Training sets...\n"
     ]
    },
    {
     "name": "stderr",
     "output_type": "stream",
     "text": [
      "100%|██████████| 600/600 [00:07<00:00, 85.58it/s]\n"
     ]
    },
    {
     "name": "stdout",
     "output_type": "stream",
     "text": [
      "Test sets...\n"
     ]
    },
    {
     "name": "stderr",
     "output_type": "stream",
     "text": [
      "100%|██████████| 200/200 [00:02<00:00, 86.89it/s]\n"
     ]
    }
   ],
   "source": [
    "\n",
    "ic = ImageClassifier(train_path='./LinnaeusDS/train/',\n",
    "                        test_path='./LinnaeusDS/test/')"
   ]
  },
  {
   "cell_type": "code",
   "execution_count": 37,
   "metadata": {},
   "outputs": [
    {
     "name": "stdout",
     "output_type": "stream",
     "text": [
      "0.6025\n"
     ]
    }
   ],
   "source": [
    "result = KNN_from_scratch(ic.train_x, ic.train_y, ic.test_x, 13)\n",
    "print(print_result(result, ic.test_y))"
   ]
  },
  {
   "cell_type": "code",
   "execution_count": 36,
   "metadata": {},
   "outputs": [
    {
     "name": "stdout",
     "output_type": "stream",
     "text": [
      "1 0.5125\n",
      "3 0.545\n",
      "5 0.56\n",
      "7 0.555\n",
      "9 0.5725\n",
      "11 0.5925\n",
      "13 0.6025\n",
      "15 0.5875\n",
      "17 0.5975\n",
      "19 0.58\n",
      "21 0.59\n",
      "23 0.6\n",
      "25 0.5875\n",
      "27 0.575\n",
      "29 0.575\n"
     ]
    }
   ],
   "source": [
    "for k in range(1, 30, 2):\n",
    "    result = KNN_from_scratch(ic.train_x, ic.train_y, ic.test_x, k)\n",
    "    print(k, end=' ')\n",
    "    print(print_result(result, ic.test_y))"
   ]
  },
  {
   "cell_type": "code",
   "execution_count": null,
   "metadata": {},
   "outputs": [],
   "source": []
  }
 ],
 "metadata": {
  "kernelspec": {
   "display_name": "Python 3",
   "language": "python",
   "name": "python3"
  },
  "language_info": {
   "codemirror_mode": {
    "name": "ipython",
    "version": 3
   },
   "file_extension": ".py",
   "mimetype": "text/x-python",
   "name": "python",
   "nbconvert_exporter": "python",
   "pygments_lexer": "ipython3",
   "version": "3.11.2"
  },
  "orig_nbformat": 4
 },
 "nbformat": 4,
 "nbformat_minor": 2
}
